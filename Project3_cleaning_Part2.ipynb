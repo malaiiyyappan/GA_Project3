{
 "cells": [
  {
   "cell_type": "code",
   "execution_count": 223,
   "metadata": {},
   "outputs": [],
   "source": [
    "# Importing the relevant libraries\n",
    "import pandas as pd\n",
    "import numpy as np\n",
    "import regex as re\n",
    "from nltk.corpus import stopwords \n",
    "from nltk import word_tokenize\n",
    "from nltk.stem import WordNetLemmatizer\n",
    "from sklearn.model_selection import train_test_split , GridSearchCV , cross_val_score\n",
    "from sklearn.feature_extraction.text import CountVectorizer, TfidfVectorizer , TfidfTransformer\n",
    "from sklearn.pipeline import Pipeline\n",
    "from sklearn.linear_model import LogisticRegression\n",
    "from sklearn.naive_bayes import BernoulliNB, MultinomialNB\n",
    "from sklearn.metrics import classification_report ,roc_curve\n",
    "import matplotlib.pyplot as plt\n",
    "import seaborn as sns\n",
    "sns.set_style(\"darkgrid\")\n",
    "%matplotlib inline \n"
   ]
  },
  {
   "cell_type": "code",
   "execution_count": 224,
   "metadata": {},
   "outputs": [
    {
     "data": {
      "text/html": [
       "<div>\n",
       "<style scoped>\n",
       "    .dataframe tbody tr th:only-of-type {\n",
       "        vertical-align: middle;\n",
       "    }\n",
       "\n",
       "    .dataframe tbody tr th {\n",
       "        vertical-align: top;\n",
       "    }\n",
       "\n",
       "    .dataframe thead th {\n",
       "        text-align: right;\n",
       "    }\n",
       "</style>\n",
       "<table border=\"1\" class=\"dataframe\">\n",
       "  <thead>\n",
       "    <tr style=\"text-align: right;\">\n",
       "      <th></th>\n",
       "      <th>all_awardings</th>\n",
       "      <th>approved_at_utc</th>\n",
       "      <th>approved_by</th>\n",
       "      <th>archived</th>\n",
       "      <th>author</th>\n",
       "      <th>author_cakeday</th>\n",
       "      <th>author_flair_background_color</th>\n",
       "      <th>author_flair_css_class</th>\n",
       "      <th>author_flair_richtext</th>\n",
       "      <th>author_flair_template_id</th>\n",
       "      <th>...</th>\n",
       "      <th>thumbnail</th>\n",
       "      <th>title</th>\n",
       "      <th>total_awards_received</th>\n",
       "      <th>ups</th>\n",
       "      <th>url</th>\n",
       "      <th>user_reports</th>\n",
       "      <th>view_count</th>\n",
       "      <th>visited</th>\n",
       "      <th>whitelist_status</th>\n",
       "      <th>wls</th>\n",
       "    </tr>\n",
       "  </thead>\n",
       "  <tbody>\n",
       "    <tr>\n",
       "      <th>0</th>\n",
       "      <td>[]</td>\n",
       "      <td>NaN</td>\n",
       "      <td>NaN</td>\n",
       "      <td>True</td>\n",
       "      <td>NawtAGoodNinja</td>\n",
       "      <td>NaN</td>\n",
       "      <td>NaN</td>\n",
       "      <td>NaN</td>\n",
       "      <td>[]</td>\n",
       "      <td>NaN</td>\n",
       "      <td>...</td>\n",
       "      <td>NaN</td>\n",
       "      <td>Updated rules and posting requirements</td>\n",
       "      <td>0</td>\n",
       "      <td>28</td>\n",
       "      <td>https://www.reddit.com/r/askpsychology/comment...</td>\n",
       "      <td>[]</td>\n",
       "      <td>NaN</td>\n",
       "      <td>False</td>\n",
       "      <td>NaN</td>\n",
       "      <td>NaN</td>\n",
       "    </tr>\n",
       "    <tr>\n",
       "      <th>1</th>\n",
       "      <td>[]</td>\n",
       "      <td>NaN</td>\n",
       "      <td>NaN</td>\n",
       "      <td>False</td>\n",
       "      <td>PsyNimo</td>\n",
       "      <td>NaN</td>\n",
       "      <td>NaN</td>\n",
       "      <td>NaN</td>\n",
       "      <td>[]</td>\n",
       "      <td>NaN</td>\n",
       "      <td>...</td>\n",
       "      <td>NaN</td>\n",
       "      <td>Is talking to yourself healthy?</td>\n",
       "      <td>0</td>\n",
       "      <td>43</td>\n",
       "      <td>https://www.reddit.com/r/askpsychology/comment...</td>\n",
       "      <td>[]</td>\n",
       "      <td>NaN</td>\n",
       "      <td>False</td>\n",
       "      <td>NaN</td>\n",
       "      <td>NaN</td>\n",
       "    </tr>\n",
       "    <tr>\n",
       "      <th>2</th>\n",
       "      <td>[]</td>\n",
       "      <td>NaN</td>\n",
       "      <td>NaN</td>\n",
       "      <td>False</td>\n",
       "      <td>Apprehensive_Bowl</td>\n",
       "      <td>NaN</td>\n",
       "      <td>NaN</td>\n",
       "      <td>NaN</td>\n",
       "      <td>[]</td>\n",
       "      <td>NaN</td>\n",
       "      <td>...</td>\n",
       "      <td>NaN</td>\n",
       "      <td>How do we know that the autism spectrum is at ...</td>\n",
       "      <td>0</td>\n",
       "      <td>6</td>\n",
       "      <td>https://www.reddit.com/r/askpsychology/comment...</td>\n",
       "      <td>[]</td>\n",
       "      <td>NaN</td>\n",
       "      <td>False</td>\n",
       "      <td>NaN</td>\n",
       "      <td>NaN</td>\n",
       "    </tr>\n",
       "    <tr>\n",
       "      <th>3</th>\n",
       "      <td>[]</td>\n",
       "      <td>NaN</td>\n",
       "      <td>NaN</td>\n",
       "      <td>False</td>\n",
       "      <td>EggShellEmotions</td>\n",
       "      <td>NaN</td>\n",
       "      <td>NaN</td>\n",
       "      <td>NaN</td>\n",
       "      <td>[]</td>\n",
       "      <td>NaN</td>\n",
       "      <td>...</td>\n",
       "      <td>NaN</td>\n",
       "      <td>Is there a maze or puzzle that you can solve o...</td>\n",
       "      <td>0</td>\n",
       "      <td>8</td>\n",
       "      <td>https://www.reddit.com/r/askpsychology/comment...</td>\n",
       "      <td>[]</td>\n",
       "      <td>NaN</td>\n",
       "      <td>False</td>\n",
       "      <td>NaN</td>\n",
       "      <td>NaN</td>\n",
       "    </tr>\n",
       "    <tr>\n",
       "      <th>4</th>\n",
       "      <td>[]</td>\n",
       "      <td>NaN</td>\n",
       "      <td>NaN</td>\n",
       "      <td>False</td>\n",
       "      <td>kishahatesyou</td>\n",
       "      <td>NaN</td>\n",
       "      <td>NaN</td>\n",
       "      <td>NaN</td>\n",
       "      <td>[]</td>\n",
       "      <td>NaN</td>\n",
       "      <td>...</td>\n",
       "      <td>NaN</td>\n",
       "      <td>What are great psychology-related research top...</td>\n",
       "      <td>0</td>\n",
       "      <td>9</td>\n",
       "      <td>https://www.reddit.com/r/askpsychology/comment...</td>\n",
       "      <td>[]</td>\n",
       "      <td>NaN</td>\n",
       "      <td>False</td>\n",
       "      <td>NaN</td>\n",
       "      <td>NaN</td>\n",
       "    </tr>\n",
       "  </tbody>\n",
       "</table>\n",
       "<p>5 rows × 95 columns</p>\n",
       "</div>"
      ],
      "text/plain": [
       "  all_awardings  approved_at_utc  approved_by  archived             author  \\\n",
       "0            []              NaN          NaN      True     NawtAGoodNinja   \n",
       "1            []              NaN          NaN     False            PsyNimo   \n",
       "2            []              NaN          NaN     False  Apprehensive_Bowl   \n",
       "3            []              NaN          NaN     False   EggShellEmotions   \n",
       "4            []              NaN          NaN     False      kishahatesyou   \n",
       "\n",
       "  author_cakeday  author_flair_background_color  author_flair_css_class  \\\n",
       "0            NaN                            NaN                     NaN   \n",
       "1            NaN                            NaN                     NaN   \n",
       "2            NaN                            NaN                     NaN   \n",
       "3            NaN                            NaN                     NaN   \n",
       "4            NaN                            NaN                     NaN   \n",
       "\n",
       "  author_flair_richtext  author_flair_template_id  ... thumbnail  \\\n",
       "0                    []                       NaN  ...       NaN   \n",
       "1                    []                       NaN  ...       NaN   \n",
       "2                    []                       NaN  ...       NaN   \n",
       "3                    []                       NaN  ...       NaN   \n",
       "4                    []                       NaN  ...       NaN   \n",
       "\n",
       "                                               title total_awards_received  \\\n",
       "0             Updated rules and posting requirements                     0   \n",
       "1                    Is talking to yourself healthy?                     0   \n",
       "2  How do we know that the autism spectrum is at ...                     0   \n",
       "3  Is there a maze or puzzle that you can solve o...                     0   \n",
       "4  What are great psychology-related research top...                     0   \n",
       "\n",
       "  ups                                                url  user_reports  \\\n",
       "0  28  https://www.reddit.com/r/askpsychology/comment...            []   \n",
       "1  43  https://www.reddit.com/r/askpsychology/comment...            []   \n",
       "2   6  https://www.reddit.com/r/askpsychology/comment...            []   \n",
       "3   8  https://www.reddit.com/r/askpsychology/comment...            []   \n",
       "4   9  https://www.reddit.com/r/askpsychology/comment...            []   \n",
       "\n",
       "   view_count  visited  whitelist_status  wls  \n",
       "0         NaN    False               NaN  NaN  \n",
       "1         NaN    False               NaN  NaN  \n",
       "2         NaN    False               NaN  NaN  \n",
       "3         NaN    False               NaN  NaN  \n",
       "4         NaN    False               NaN  NaN  \n",
       "\n",
       "[5 rows x 95 columns]"
      ]
     },
     "execution_count": 224,
     "metadata": {},
     "output_type": "execute_result"
    }
   ],
   "source": [
    "#read in the psychology file\n",
    "psy= pd.read_csv('psy.csv')\n",
    "psy.head()"
   ]
  },
  {
   "cell_type": "code",
   "execution_count": 225,
   "metadata": {},
   "outputs": [
    {
     "data": {
      "text/html": [
       "<div>\n",
       "<style scoped>\n",
       "    .dataframe tbody tr th:only-of-type {\n",
       "        vertical-align: middle;\n",
       "    }\n",
       "\n",
       "    .dataframe tbody tr th {\n",
       "        vertical-align: top;\n",
       "    }\n",
       "\n",
       "    .dataframe thead th {\n",
       "        text-align: right;\n",
       "    }\n",
       "</style>\n",
       "<table border=\"1\" class=\"dataframe\">\n",
       "  <thead>\n",
       "    <tr style=\"text-align: right;\">\n",
       "      <th></th>\n",
       "      <th>all_awardings</th>\n",
       "      <th>approved_at_utc</th>\n",
       "      <th>approved_by</th>\n",
       "      <th>archived</th>\n",
       "      <th>author</th>\n",
       "      <th>author_cakeday</th>\n",
       "      <th>author_flair_background_color</th>\n",
       "      <th>author_flair_css_class</th>\n",
       "      <th>author_flair_richtext</th>\n",
       "      <th>author_flair_template_id</th>\n",
       "      <th>...</th>\n",
       "      <th>thumbnail</th>\n",
       "      <th>title</th>\n",
       "      <th>total_awards_received</th>\n",
       "      <th>ups</th>\n",
       "      <th>url</th>\n",
       "      <th>user_reports</th>\n",
       "      <th>view_count</th>\n",
       "      <th>visited</th>\n",
       "      <th>whitelist_status</th>\n",
       "      <th>wls</th>\n",
       "    </tr>\n",
       "  </thead>\n",
       "  <tbody>\n",
       "    <tr>\n",
       "      <th>0</th>\n",
       "      <td>[]</td>\n",
       "      <td>NaN</td>\n",
       "      <td>NaN</td>\n",
       "      <td>False</td>\n",
       "      <td>Fire_Potato</td>\n",
       "      <td>NaN</td>\n",
       "      <td>NaN</td>\n",
       "      <td>NaN</td>\n",
       "      <td>[]</td>\n",
       "      <td>NaN</td>\n",
       "      <td>...</td>\n",
       "      <td>NaN</td>\n",
       "      <td>Help with choosing an appropriate research met...</td>\n",
       "      <td>0</td>\n",
       "      <td>5</td>\n",
       "      <td>https://www.reddit.com/r/sociology/comments/bz...</td>\n",
       "      <td>[]</td>\n",
       "      <td>NaN</td>\n",
       "      <td>False</td>\n",
       "      <td>NaN</td>\n",
       "      <td>NaN</td>\n",
       "    </tr>\n",
       "    <tr>\n",
       "      <th>1</th>\n",
       "      <td>[]</td>\n",
       "      <td>NaN</td>\n",
       "      <td>NaN</td>\n",
       "      <td>False</td>\n",
       "      <td>rjain02</td>\n",
       "      <td>NaN</td>\n",
       "      <td>NaN</td>\n",
       "      <td>NaN</td>\n",
       "      <td>[]</td>\n",
       "      <td>NaN</td>\n",
       "      <td>...</td>\n",
       "      <td>NaN</td>\n",
       "      <td>Thinking about Sociology major in Undergrad</td>\n",
       "      <td>0</td>\n",
       "      <td>22</td>\n",
       "      <td>https://www.reddit.com/r/sociology/comments/by...</td>\n",
       "      <td>[]</td>\n",
       "      <td>NaN</td>\n",
       "      <td>False</td>\n",
       "      <td>NaN</td>\n",
       "      <td>NaN</td>\n",
       "    </tr>\n",
       "    <tr>\n",
       "      <th>2</th>\n",
       "      <td>[]</td>\n",
       "      <td>NaN</td>\n",
       "      <td>NaN</td>\n",
       "      <td>False</td>\n",
       "      <td>anmmorenope</td>\n",
       "      <td>NaN</td>\n",
       "      <td>NaN</td>\n",
       "      <td>NaN</td>\n",
       "      <td>[]</td>\n",
       "      <td>NaN</td>\n",
       "      <td>...</td>\n",
       "      <td>NaN</td>\n",
       "      <td>A pure hard nature scientist trying to do a so...</td>\n",
       "      <td>0</td>\n",
       "      <td>8</td>\n",
       "      <td>https://www.reddit.com/r/sociology/comments/by...</td>\n",
       "      <td>[]</td>\n",
       "      <td>NaN</td>\n",
       "      <td>False</td>\n",
       "      <td>NaN</td>\n",
       "      <td>NaN</td>\n",
       "    </tr>\n",
       "    <tr>\n",
       "      <th>3</th>\n",
       "      <td>[]</td>\n",
       "      <td>NaN</td>\n",
       "      <td>NaN</td>\n",
       "      <td>False</td>\n",
       "      <td>mutedcoral</td>\n",
       "      <td>NaN</td>\n",
       "      <td>NaN</td>\n",
       "      <td>NaN</td>\n",
       "      <td>[]</td>\n",
       "      <td>NaN</td>\n",
       "      <td>...</td>\n",
       "      <td>NaN</td>\n",
       "      <td>Seeking advice on housing research project</td>\n",
       "      <td>0</td>\n",
       "      <td>8</td>\n",
       "      <td>https://www.reddit.com/r/sociology/comments/by...</td>\n",
       "      <td>[]</td>\n",
       "      <td>NaN</td>\n",
       "      <td>False</td>\n",
       "      <td>NaN</td>\n",
       "      <td>NaN</td>\n",
       "    </tr>\n",
       "    <tr>\n",
       "      <th>4</th>\n",
       "      <td>[]</td>\n",
       "      <td>NaN</td>\n",
       "      <td>NaN</td>\n",
       "      <td>False</td>\n",
       "      <td>thebadsociologist</td>\n",
       "      <td>NaN</td>\n",
       "      <td>NaN</td>\n",
       "      <td>NaN</td>\n",
       "      <td>[]</td>\n",
       "      <td>NaN</td>\n",
       "      <td>...</td>\n",
       "      <td>NaN</td>\n",
       "      <td>Authorship order and finding a job</td>\n",
       "      <td>0</td>\n",
       "      <td>4</td>\n",
       "      <td>https://www.reddit.com/r/sociology/comments/by...</td>\n",
       "      <td>[]</td>\n",
       "      <td>NaN</td>\n",
       "      <td>False</td>\n",
       "      <td>NaN</td>\n",
       "      <td>NaN</td>\n",
       "    </tr>\n",
       "  </tbody>\n",
       "</table>\n",
       "<p>5 rows × 97 columns</p>\n",
       "</div>"
      ],
      "text/plain": [
       "  all_awardings  approved_at_utc  approved_by  archived             author  \\\n",
       "0            []              NaN          NaN     False        Fire_Potato   \n",
       "1            []              NaN          NaN     False            rjain02   \n",
       "2            []              NaN          NaN     False        anmmorenope   \n",
       "3            []              NaN          NaN     False         mutedcoral   \n",
       "4            []              NaN          NaN     False  thebadsociologist   \n",
       "\n",
       "  author_cakeday  author_flair_background_color  author_flair_css_class  \\\n",
       "0            NaN                            NaN                     NaN   \n",
       "1            NaN                            NaN                     NaN   \n",
       "2            NaN                            NaN                     NaN   \n",
       "3            NaN                            NaN                     NaN   \n",
       "4            NaN                            NaN                     NaN   \n",
       "\n",
       "  author_flair_richtext  author_flair_template_id  ...  thumbnail  \\\n",
       "0                    []                       NaN  ...        NaN   \n",
       "1                    []                       NaN  ...        NaN   \n",
       "2                    []                       NaN  ...        NaN   \n",
       "3                    []                       NaN  ...        NaN   \n",
       "4                    []                       NaN  ...        NaN   \n",
       "\n",
       "                                               title total_awards_received  \\\n",
       "0  Help with choosing an appropriate research met...                     0   \n",
       "1        Thinking about Sociology major in Undergrad                     0   \n",
       "2  A pure hard nature scientist trying to do a so...                     0   \n",
       "3         Seeking advice on housing research project                     0   \n",
       "4                 Authorship order and finding a job                     0   \n",
       "\n",
       "  ups                                                url  user_reports  \\\n",
       "0   5  https://www.reddit.com/r/sociology/comments/bz...            []   \n",
       "1  22  https://www.reddit.com/r/sociology/comments/by...            []   \n",
       "2   8  https://www.reddit.com/r/sociology/comments/by...            []   \n",
       "3   8  https://www.reddit.com/r/sociology/comments/by...            []   \n",
       "4   4  https://www.reddit.com/r/sociology/comments/by...            []   \n",
       "\n",
       "   view_count  visited  whitelist_status  wls  \n",
       "0         NaN    False               NaN  NaN  \n",
       "1         NaN    False               NaN  NaN  \n",
       "2         NaN    False               NaN  NaN  \n",
       "3         NaN    False               NaN  NaN  \n",
       "4         NaN    False               NaN  NaN  \n",
       "\n",
       "[5 rows x 97 columns]"
      ]
     },
     "execution_count": 225,
     "metadata": {},
     "output_type": "execute_result"
    }
   ],
   "source": [
    "#Read in the sociology file \n",
    "soc = pd.read_csv('soc.csv')\n",
    "soc.head()"
   ]
  },
  {
   "cell_type": "code",
   "execution_count": 226,
   "metadata": {},
   "outputs": [
    {
     "data": {
      "text/plain": [
       "Index(['all_awardings', 'approved_at_utc', 'approved_by', 'archived', 'author',\n",
       "       'author_cakeday', 'author_flair_background_color',\n",
       "       'author_flair_css_class', 'author_flair_richtext',\n",
       "       'author_flair_template_id', 'author_flair_text',\n",
       "       'author_flair_text_color', 'author_flair_type', 'author_fullname',\n",
       "       'author_patreon_flair', 'banned_at_utc', 'banned_by', 'can_gild',\n",
       "       'can_mod_post', 'category', 'clicked', 'content_categories',\n",
       "       'contest_mode', 'created', 'created_utc', 'distinguished', 'domain',\n",
       "       'downs', 'edited', 'gilded', 'gildings', 'hidden', 'hide_score', 'id',\n",
       "       'is_crosspostable', 'is_meta', 'is_original_content',\n",
       "       'is_reddit_media_domain', 'is_robot_indexable', 'is_self', 'is_video',\n",
       "       'likes', 'link_flair_background_color', 'link_flair_css_class',\n",
       "       'link_flair_richtext', 'link_flair_template_id', 'link_flair_text',\n",
       "       'link_flair_text_color', 'link_flair_type', 'locked', 'media',\n",
       "       'media_embed', 'media_only', 'mod_note', 'mod_reason_by',\n",
       "       'mod_reason_title', 'mod_reports', 'name', 'no_follow', 'num_comments',\n",
       "       'num_crossposts', 'num_reports', 'over_18', 'parent_whitelist_status',\n",
       "       'permalink', 'pinned', 'pwls', 'quarantine', 'removal_reason',\n",
       "       'report_reasons', 'saved', 'score', 'secure_media',\n",
       "       'secure_media_embed', 'selftext', 'selftext_html', 'send_replies',\n",
       "       'spoiler', 'stickied', 'subreddit', 'subreddit_id',\n",
       "       'subreddit_name_prefixed', 'subreddit_subscribers', 'subreddit_type',\n",
       "       'suggested_sort', 'thumbnail', 'title', 'total_awards_received', 'ups',\n",
       "       'url', 'user_reports', 'view_count', 'visited', 'whitelist_status',\n",
       "       'wls'],\n",
       "      dtype='object')"
      ]
     },
     "execution_count": 226,
     "metadata": {},
     "output_type": "execute_result"
    }
   ],
   "source": [
    "# For the purposes of binary classification we dont require all of the author's information\n",
    "psy.columns\n"
   ]
  },
  {
   "cell_type": "code",
   "execution_count": 227,
   "metadata": {},
   "outputs": [
    {
     "data": {
      "text/plain": [
       "(1001, 2)"
      ]
     },
     "execution_count": 227,
     "metadata": {},
     "output_type": "execute_result"
    }
   ],
   "source": [
    "# For our classification, we only require the selftext and the subreddit section \n",
    "psych = psy[['selftext','subreddit']]\n",
    "psych.shape"
   ]
  },
  {
   "cell_type": "code",
   "execution_count": 228,
   "metadata": {},
   "outputs": [
    {
     "data": {
      "text/plain": [
       "(988, 2)"
      ]
     },
     "execution_count": 228,
     "metadata": {},
     "output_type": "execute_result"
    }
   ],
   "source": [
    "# For our classification, we only require the selftext and the subreddit section \n",
    "soci = soc[['selftext','subreddit']]\n",
    "soci.shape"
   ]
  },
  {
   "cell_type": "code",
   "execution_count": 229,
   "metadata": {},
   "outputs": [],
   "source": [
    "#Dropping the rows that has null values for both the dataframes\n",
    "psych = psych.dropna()\n",
    "soci = soci.dropna()"
   ]
  },
  {
   "cell_type": "code",
   "execution_count": 230,
   "metadata": {},
   "outputs": [
    {
     "data": {
      "text/plain": [
       "(825, 2)"
      ]
     },
     "execution_count": 230,
     "metadata": {},
     "output_type": "execute_result"
    }
   ],
   "source": [
    "# To check the shape of the remaining rows in psych df\n",
    "psych.shape"
   ]
  },
  {
   "cell_type": "code",
   "execution_count": 231,
   "metadata": {},
   "outputs": [
    {
     "data": {
      "text/plain": [
       "(678, 2)"
      ]
     },
     "execution_count": 231,
     "metadata": {},
     "output_type": "execute_result"
    }
   ],
   "source": [
    "# To check the shape of the remaining rows in soci df\n",
    "soci.shape"
   ]
  },
  {
   "cell_type": "code",
   "execution_count": 232,
   "metadata": {},
   "outputs": [],
   "source": [
    "#Add both the psych and soci dataframes together to form a new dataframe\n",
    "frames = [psych,soci]\n",
    "combi = pd.concat(frames)"
   ]
  },
  {
   "cell_type": "code",
   "execution_count": 233,
   "metadata": {},
   "outputs": [
    {
     "data": {
      "text/plain": [
       "(1503, 2)"
      ]
     },
     "execution_count": 233,
     "metadata": {},
     "output_type": "execute_result"
    }
   ],
   "source": [
    "#Shape of the new df\n",
    "combi.shape"
   ]
  },
  {
   "cell_type": "code",
   "execution_count": 234,
   "metadata": {},
   "outputs": [],
   "source": [
    "#Add more words in the stopwords\n",
    "stop_words = stopwords.words('english')\n",
    "additional_stop_words = ['r/askpsychology', 'psychology', 'sociology' , 'psych' , 'soci', 'r/sociology' , 'psy', 'soc' , 'raskpsychology', 'rsociology'] \n",
    "stop_words.extend(additional_stop_words)"
   ]
  },
  {
   "cell_type": "code",
   "execution_count": 235,
   "metadata": {},
   "outputs": [],
   "source": [
    "#Creating a funtion called remove noise to clen the self_text\n",
    "def remove_noise(input_text):\n",
    "    words = input_text.lower()\n",
    "    words = words.split()\n",
    "    noise_free_words = [word for word in words if word not in stop_words ] \n",
    "    noise_free_text = \" \".join(noise_free_words) \n",
    "    clean1_text = re.sub(r'[^\\w\\s]' ,'' , noise_free_text)\n",
    "    clean2_text = re.sub( r'[\\n]'  ,'' , clean1_text)\n",
    "    clean3_text =  re.sub(r'[0-9]+' , '' , clean2_text)\n",
    "    \n",
    "    return clean3_text"
   ]
  },
  {
   "cell_type": "code",
   "execution_count": 236,
   "metadata": {},
   "outputs": [],
   "source": [
    "#Cleaning the data\n",
    "combi['selftext'] = [remove_noise(i) for i in combi['selftext']]\n",
    "\n"
   ]
  },
  {
   "cell_type": "code",
   "execution_count": 237,
   "metadata": {},
   "outputs": [
    {
     "data": {
      "text/plain": [
       "0     hello again raskpsychology promised updated ru...\n",
       "1      heard healthy third person conversation yourself\n",
       "2     mean extreme cases im talking people distinct ...\n",
       "3     need lock car keys behind something thats impo...\n",
       "4     yall tell search google want clarify already b...\n",
       "5     way died matter ie would suicide different eff...\n",
       "6     know difference say ssri snri whats difference...\n",
       "7     like title says spurts clean time mixed bender...\n",
       "9               especially remember experiencing solely\n",
       "10    hi im pretty uninformed general freud im entir...\n",
       "Name: selftext, dtype: object"
      ]
     },
     "execution_count": 237,
     "metadata": {},
     "output_type": "execute_result"
    }
   ],
   "source": [
    "#Observing the clean data\n",
    "combi['selftext'].head(n = 10)"
   ]
  },
  {
   "cell_type": "code",
   "execution_count": 238,
   "metadata": {},
   "outputs": [],
   "source": [
    "#Lemmatizing the selftext\n",
    "lemmatizer = WordNetLemmatizer()\n",
    "\n",
    "\n",
    "def lemmatize_text(text):\n",
    "    return [lemmatizer.lemmatize(w) for w in word_tokenize(text)]\n",
    "\n",
    "combi['selftext'] = combi['selftext'].apply(lemmatize_text)"
   ]
  },
  {
   "cell_type": "code",
   "execution_count": 246,
   "metadata": {},
   "outputs": [],
   "source": [
    "#Making the selftext type to string\n",
    "combi['selftext'] = combi['selftext'].astype('str')"
   ]
  },
  {
   "cell_type": "code",
   "execution_count": 247,
   "metadata": {},
   "outputs": [],
   "source": [
    "#Train-Test split the data\n",
    "X = combi['selftext']\n",
    "y = combi['subreddit']\n",
    "X_train, X_test, y_train, y_test = train_test_split(X, y,\n",
    "                                                    test_size = 0.25,\n",
    "                                                    random_state = 42,\n",
    "                                                   stratify = y)\n"
   ]
  },
  {
   "cell_type": "code",
   "execution_count": 248,
   "metadata": {},
   "outputs": [
    {
     "data": {
      "text/plain": [
       "191    askpsychology\n",
       "169    askpsychology\n",
       "932    askpsychology\n",
       "825    askpsychology\n",
       "826        sociology\n",
       "877        sociology\n",
       "906        sociology\n",
       "544        sociology\n",
       "908        sociology\n",
       "230        sociology\n",
       "Name: subreddit, dtype: object"
      ]
     },
     "execution_count": 248,
     "metadata": {},
     "output_type": "execute_result"
    }
   ],
   "source": [
    "y_train.head(n= 10)"
   ]
  },
  {
   "cell_type": "code",
   "execution_count": 250,
   "metadata": {},
   "outputs": [
    {
     "data": {
      "text/plain": [
       "191    ['wondering', 'general', 'concensus', 'whether...\n",
       "169    ['podcast', 'criminal', 'the', 'choir', 'man',...\n",
       "932    ['im', 'wondering', 'cause', 'people', 'always...\n",
       "825    ['im', 'kind', 'referring', 'specifically', 'i...\n",
       "826    ['im', 'currently', 'writing', 'thesis', 'lang...\n",
       "877    ['im', 'project', 'u', 'census', 'ive', 'diggi...\n",
       "906    ['writing', 'first', 'essay', 'year', 'started...\n",
       "544    ['wondering', 'interesting', 'documentary', 'w...\n",
       "908    ['hi', 'everyone', 'brief', 'introduction', 'b...\n",
       "230    ['finished', 'espingandersons', 'famous', 'wor...\n",
       "Name: selftext, dtype: object"
      ]
     },
     "execution_count": 250,
     "metadata": {},
     "output_type": "execute_result"
    }
   ],
   "source": [
    "X_train.head(n= 10)"
   ]
  },
  {
   "cell_type": "code",
   "execution_count": 249,
   "metadata": {},
   "outputs": [
    {
     "data": {
      "text/plain": [
       "askpsychology    0.548902\n",
       "sociology        0.451098\n",
       "Name: subreddit, dtype: float64"
      ]
     },
     "execution_count": 249,
     "metadata": {},
     "output_type": "execute_result"
    }
   ],
   "source": [
    "#Baseline Score to check accuracy\n",
    "y.value_counts(normalize=True)"
   ]
  },
  {
   "cell_type": "code",
   "execution_count": 281,
   "metadata": {},
   "outputs": [],
   "source": [
    "#Using pipelines ,using tvec and MNB\n",
    "\n",
    "pipe = Pipeline([\n",
    "    #('cvec', CountVectorizer()),\n",
    "    ('tvec', TfidfVectorizer()),\n",
    "    ('cls', MultinomialNB()),\n",
    "    #('lr' , LogisticRegression())\n",
    "    \n",
    "])\n"
   ]
  },
  {
   "cell_type": "code",
   "execution_count": 282,
   "metadata": {},
   "outputs": [
    {
     "data": {
      "text/plain": [
       "array([0.84880637, 0.808     , 0.89333333])"
      ]
     },
     "execution_count": 282,
     "metadata": {},
     "output_type": "execute_result"
    }
   ],
   "source": [
    "cross_val_score(pipe, X_train, y_train, cv=3)"
   ]
  },
  {
   "cell_type": "code",
   "execution_count": 283,
   "metadata": {},
   "outputs": [
    {
     "data": {
      "text/plain": [
       "0.8500465664603597"
      ]
     },
     "execution_count": 283,
     "metadata": {},
     "output_type": "execute_result"
    }
   ],
   "source": [
    "cross_val_score(pipe, X_train, y_train, cv=3).mean() "
   ]
  },
  {
   "cell_type": "code",
   "execution_count": 284,
   "metadata": {},
   "outputs": [
    {
     "name": "stdout",
     "output_type": "stream",
     "text": [
      "0.8074534161490683\n"
     ]
    },
    {
     "data": {
      "text/plain": [
       "{'tvec__max_df': 0.85,\n",
       " 'tvec__max_features': 2500,\n",
       " 'tvec__min_df': 0.01,\n",
       " 'tvec__ngram_range': (1, 2),\n",
       " 'tvec__norm': 'l2'}"
      ]
     },
     "execution_count": 284,
     "metadata": {},
     "output_type": "execute_result"
    }
   ],
   "source": [
    "#Using tvec and MNB\n",
    "pipe_params = {\n",
    "     'tvec__max_features': [2500, 3000, 3500],\n",
    "    'tvec__min_df': [0.01, 0.03, 0.05],\n",
    "    'tvec__max_df': [0.85,.9, .95],\n",
    "    'tvec__ngram_range': [(1,1), (1,2),(1,3)],\n",
    "    'tvec__norm': ['l1', 'l2']\n",
    "}\n",
    "gs_1 = GridSearchCV(pipe, param_grid=pipe_params, cv=3)\n",
    "gs_1.fit(X_train, y_train)\n",
    "print(gs.best_score_)\n",
    "gs_1.best_params_"
   ]
  },
  {
   "cell_type": "code",
   "execution_count": 285,
   "metadata": {},
   "outputs": [
    {
     "data": {
      "text/plain": [
       "0.8881987577639752"
      ]
     },
     "execution_count": 285,
     "metadata": {},
     "output_type": "execute_result"
    }
   ],
   "source": [
    "#Using tvec and MNB\n",
    "gs_1.score(X_train, y_train)"
   ]
  },
  {
   "cell_type": "code",
   "execution_count": 286,
   "metadata": {},
   "outputs": [
    {
     "data": {
      "text/plain": [
       "0.8218085106382979"
      ]
     },
     "execution_count": 286,
     "metadata": {},
     "output_type": "execute_result"
    }
   ],
   "source": [
    "#Using tvec and MNB\n",
    "gs_1.score(X_test, y_test)"
   ]
  },
  {
   "cell_type": "code",
   "execution_count": 287,
   "metadata": {},
   "outputs": [],
   "source": [
    "#Using pipelines, Using tvec and Lr\n",
    "\n",
    "pipe = Pipeline([\n",
    "    #('cvec', CountVectorizer()),\n",
    "    ('tvec', TfidfVectorizer()),\n",
    "    #('cls', MultinomialNB()),\n",
    "    ('lr' , LogisticRegression())\n",
    "    \n",
    "])\n"
   ]
  },
  {
   "cell_type": "code",
   "execution_count": 288,
   "metadata": {},
   "outputs": [
    {
     "name": "stderr",
     "output_type": "stream",
     "text": [
      "/Users/malai/anaconda3/lib/python3.7/site-packages/sklearn/linear_model/logistic.py:433: FutureWarning: Default solver will be changed to 'lbfgs' in 0.22. Specify a solver to silence this warning.\n",
      "  FutureWarning)\n"
     ]
    },
    {
     "data": {
      "text/plain": [
       "array([0.82493369, 0.8       , 0.85333333])"
      ]
     },
     "execution_count": 288,
     "metadata": {},
     "output_type": "execute_result"
    }
   ],
   "source": [
    "cross_val_score(pipe, X_train, y_train, cv=3)"
   ]
  },
  {
   "cell_type": "code",
   "execution_count": 289,
   "metadata": {},
   "outputs": [
    {
     "name": "stderr",
     "output_type": "stream",
     "text": [
      "/Users/malai/anaconda3/lib/python3.7/site-packages/sklearn/linear_model/logistic.py:433: FutureWarning: Default solver will be changed to 'lbfgs' in 0.22. Specify a solver to silence this warning.\n",
      "  FutureWarning)\n"
     ]
    },
    {
     "data": {
      "text/plain": [
       "0.826089006778662"
      ]
     },
     "execution_count": 289,
     "metadata": {},
     "output_type": "execute_result"
    }
   ],
   "source": [
    "cross_val_score(pipe, X_train, y_train, cv=3).mean() "
   ]
  },
  {
   "cell_type": "code",
   "execution_count": 290,
   "metadata": {},
   "outputs": [
    {
     "name": "stderr",
     "output_type": "stream",
     "text": [
      "/Users/malai/anaconda3/lib/python3.7/site-packages/sklearn/linear_model/logistic.py:433: FutureWarning: Default solver will be changed to 'lbfgs' in 0.22. Specify a solver to silence this warning.\n",
      "  FutureWarning)\n"
     ]
    },
    {
     "name": "stdout",
     "output_type": "stream",
     "text": [
      "0.8074534161490683\n"
     ]
    },
    {
     "data": {
      "text/plain": [
       "{'tvec__max_df': 0.85,\n",
       " 'tvec__max_features': 2500,\n",
       " 'tvec__min_df': 0.01,\n",
       " 'tvec__ngram_range': (1, 1),\n",
       " 'tvec__norm': 'l2'}"
      ]
     },
     "execution_count": 290,
     "metadata": {},
     "output_type": "execute_result"
    }
   ],
   "source": [
    "#Using tvec and lr\n",
    "pipe_params = {\n",
    "    'tvec__max_features': [2500, 3000, 3500],\n",
    "    'tvec__min_df': [0.01, 0.03, 0.05],\n",
    "    'tvec__max_df': [0.85,.9, .95],\n",
    "    'tvec__ngram_range': [(1,1), (1,2),(1,3)],\n",
    "    'tvec__norm': ['l1', 'l2']\n",
    "}\n",
    "gs_2 = GridSearchCV(pipe, param_grid=pipe_params, cv=3)\n",
    "gs_2.fit(X_train, y_train)\n",
    "print(gs.best_score_)\n",
    "gs_2.best_params_"
   ]
  },
  {
   "cell_type": "code",
   "execution_count": 291,
   "metadata": {},
   "outputs": [
    {
     "data": {
      "text/plain": [
       "0.9165927240461402"
      ]
     },
     "execution_count": 291,
     "metadata": {},
     "output_type": "execute_result"
    }
   ],
   "source": [
    "#Using tvec and lr\n",
    "gs_2.score(X_train, y_train)"
   ]
  },
  {
   "cell_type": "code",
   "execution_count": 292,
   "metadata": {},
   "outputs": [
    {
     "data": {
      "text/plain": [
       "0.8430851063829787"
      ]
     },
     "execution_count": 292,
     "metadata": {},
     "output_type": "execute_result"
    }
   ],
   "source": [
    "#Using tvec and lr\n",
    "gs_2.score(X_test, y_test)"
   ]
  },
  {
   "cell_type": "code",
   "execution_count": 293,
   "metadata": {},
   "outputs": [],
   "source": [
    "#Using pipelines, UsingCvec & MNB\n",
    "\n",
    "pipe = Pipeline([\n",
    "    ('cvec', CountVectorizer()),\n",
    "    #('tvec', TfidfVectorizer()),\n",
    "    ('cls', MultinomialNB()),\n",
    "    #('lr' , LogisticRegression())\n",
    "    \n",
    "])\n"
   ]
  },
  {
   "cell_type": "code",
   "execution_count": 294,
   "metadata": {},
   "outputs": [
    {
     "data": {
      "text/plain": [
       "array([0.83819629, 0.856     , 0.84266667])"
      ]
     },
     "execution_count": 294,
     "metadata": {},
     "output_type": "execute_result"
    }
   ],
   "source": [
    "cross_val_score(pipe, X_train, y_train, cv=3)"
   ]
  },
  {
   "cell_type": "code",
   "execution_count": 295,
   "metadata": {},
   "outputs": [
    {
     "data": {
      "text/plain": [
       "0.8456209843796051"
      ]
     },
     "execution_count": 295,
     "metadata": {},
     "output_type": "execute_result"
    }
   ],
   "source": [
    "cross_val_score(pipe, X_train, y_train, cv=3).mean() "
   ]
  },
  {
   "cell_type": "code",
   "execution_count": 296,
   "metadata": {},
   "outputs": [
    {
     "name": "stdout",
     "output_type": "stream",
     "text": [
      "0.8074534161490683\n"
     ]
    },
    {
     "data": {
      "text/plain": [
       "{'cvec__max_df': 0.85,\n",
       " 'cvec__max_features': 2500,\n",
       " 'cvec__min_df': 0.01,\n",
       " 'cvec__ngram_range': (1, 1)}"
      ]
     },
     "execution_count": 296,
     "metadata": {},
     "output_type": "execute_result"
    }
   ],
   "source": [
    "#Cvec & MNB\n",
    "pipe_params = {\n",
    "     'cvec__max_features': [2500, 3000, 3500],\n",
    "    'cvec__min_df': [0.01, 0.03, 0.05],\n",
    "    'cvec__max_df': [0.85,.9, .95],\n",
    "    'cvec__ngram_range': [(1,1), (1,2),(1,3)]\n",
    "}\n",
    "gs_3 = GridSearchCV(pipe, param_grid=pipe_params, cv=3)\n",
    "gs_3.fit(X_train, y_train)\n",
    "print(gs.best_score_)\n",
    "gs_3.best_params_"
   ]
  },
  {
   "cell_type": "code",
   "execution_count": 297,
   "metadata": {},
   "outputs": [
    {
     "data": {
      "text/plain": [
       "0.8775510204081632"
      ]
     },
     "execution_count": 297,
     "metadata": {},
     "output_type": "execute_result"
    }
   ],
   "source": [
    "# Using Cvec & MNB\n",
    "gs_3.score(X_train, y_train)"
   ]
  },
  {
   "cell_type": "code",
   "execution_count": 298,
   "metadata": {},
   "outputs": [
    {
     "data": {
      "text/plain": [
       "0.8297872340425532"
      ]
     },
     "execution_count": 298,
     "metadata": {},
     "output_type": "execute_result"
    }
   ],
   "source": [
    "# Using Cvec & MNB\n",
    "gs_3.score(X_test, y_test)"
   ]
  },
  {
   "cell_type": "code",
   "execution_count": 317,
   "metadata": {},
   "outputs": [],
   "source": [
    "#Using pipelines, UsingCvec & lr\n",
    "\n",
    "pipe = Pipeline([\n",
    "    ('cvec', CountVectorizer()),\n",
    "    #('tvec', TfidfVectorizer()),\n",
    "    #('cls', MultinomialNB()),\n",
    "    ('lr' , LogisticRegression())\n",
    "    \n",
    "])\n"
   ]
  },
  {
   "cell_type": "code",
   "execution_count": 318,
   "metadata": {},
   "outputs": [
    {
     "name": "stderr",
     "output_type": "stream",
     "text": [
      "/Users/malai/anaconda3/lib/python3.7/site-packages/sklearn/linear_model/logistic.py:433: FutureWarning: Default solver will be changed to 'lbfgs' in 0.22. Specify a solver to silence this warning.\n",
      "  FutureWarning)\n"
     ]
    },
    {
     "data": {
      "text/plain": [
       "array([0.83819629, 0.78933333, 0.832     ])"
      ]
     },
     "execution_count": 318,
     "metadata": {},
     "output_type": "execute_result"
    }
   ],
   "source": [
    "cross_val_score(pipe, X_train, y_train, cv=3)"
   ]
  },
  {
   "cell_type": "code",
   "execution_count": 319,
   "metadata": {},
   "outputs": [
    {
     "name": "stderr",
     "output_type": "stream",
     "text": [
      "/Users/malai/anaconda3/lib/python3.7/site-packages/sklearn/linear_model/logistic.py:433: FutureWarning: Default solver will be changed to 'lbfgs' in 0.22. Specify a solver to silence this warning.\n",
      "  FutureWarning)\n"
     ]
    },
    {
     "data": {
      "text/plain": [
       "0.8198432066018273"
      ]
     },
     "execution_count": 319,
     "metadata": {},
     "output_type": "execute_result"
    }
   ],
   "source": [
    "cross_val_score(pipe, X_train, y_train, cv=3).mean() "
   ]
  },
  {
   "cell_type": "code",
   "execution_count": 320,
   "metadata": {},
   "outputs": [
    {
     "name": "stderr",
     "output_type": "stream",
     "text": [
      "/Users/malai/anaconda3/lib/python3.7/site-packages/sklearn/linear_model/logistic.py:433: FutureWarning: Default solver will be changed to 'lbfgs' in 0.22. Specify a solver to silence this warning.\n",
      "  FutureWarning)\n"
     ]
    },
    {
     "name": "stdout",
     "output_type": "stream",
     "text": [
      "0.8074534161490683\n"
     ]
    },
    {
     "data": {
      "text/plain": [
       "{'cvec__max_df': 0.85,\n",
       " 'cvec__max_features': 2500,\n",
       " 'cvec__min_df': 0.01,\n",
       " 'cvec__ngram_range': (1, 2)}"
      ]
     },
     "execution_count": 320,
     "metadata": {},
     "output_type": "execute_result"
    }
   ],
   "source": [
    "#Cvec & lr\n",
    "pipe_params = {\n",
    "     'cvec__max_features': [2500, 3000, 3500],\n",
    "    'cvec__min_df': [0.01, 0.03, 0.05],\n",
    "    'cvec__max_df': [0.85,.9, .95],\n",
    "    'cvec__ngram_range': [(1,1), (1,2),(1,3)]\n",
    "}\n",
    "gs_4 = GridSearchCV(pipe, param_grid=pipe_params, cv=3)\n",
    "gs_4.fit(X_train, y_train)\n",
    "print(gs.best_score_)\n",
    "gs_4.best_params_"
   ]
  },
  {
   "cell_type": "code",
   "execution_count": 321,
   "metadata": {},
   "outputs": [
    {
     "data": {
      "text/plain": [
       "0.9849157054125999"
      ]
     },
     "execution_count": 321,
     "metadata": {},
     "output_type": "execute_result"
    }
   ],
   "source": [
    "# Using Cvec & MNB\n",
    "gs_4.score(X_train, y_train)\n",
    "#Overfitting model"
   ]
  },
  {
   "cell_type": "code",
   "execution_count": 322,
   "metadata": {},
   "outputs": [
    {
     "data": {
      "text/plain": [
       "0.8537234042553191"
      ]
     },
     "execution_count": 322,
     "metadata": {},
     "output_type": "execute_result"
    }
   ],
   "source": [
    "# Using Cvec & MNB\n",
    "gs_4.score(X_test, y_test)"
   ]
  },
  {
   "cell_type": "code",
   "execution_count": 307,
   "metadata": {},
   "outputs": [
    {
     "name": "stdout",
     "output_type": "stream",
     "text": [
      "               precision    recall  f1-score   support\n",
      "\n",
      "askpsychology       0.83      0.85      0.84       206\n",
      "    sociology       0.81      0.79      0.80       170\n",
      "\n",
      "    micro avg       0.82      0.82      0.82       376\n",
      "    macro avg       0.82      0.82      0.82       376\n",
      " weighted avg       0.82      0.82      0.82       376\n",
      "\n"
     ]
    }
   ],
   "source": [
    "predicted = gs_1.predict(X_test)\n",
    "print (classification_report(y_test, predicted))"
   ]
  },
  {
   "cell_type": "code",
   "execution_count": 308,
   "metadata": {},
   "outputs": [
    {
     "name": "stdout",
     "output_type": "stream",
     "text": [
      "               precision    recall  f1-score   support\n",
      "\n",
      "askpsychology       0.89      0.78      0.83       206\n",
      "    sociology       0.77      0.89      0.83       170\n",
      "\n",
      "    micro avg       0.83      0.83      0.83       376\n",
      "    macro avg       0.83      0.83      0.83       376\n",
      " weighted avg       0.84      0.83      0.83       376\n",
      "\n"
     ]
    }
   ],
   "source": [
    "predicted = gs_3.predict(X_test)\n",
    "print (classification_report(y_test, predicted))"
   ]
  },
  {
   "cell_type": "code",
   "execution_count": null,
   "metadata": {},
   "outputs": [],
   "source": [
    "#We will be using gs1 as there is a higher precision rate for both the categories\n",
    "#gs_1 uses tfif vectorizer and Multinomial Naive Bayes"
   ]
  },
  {
   "cell_type": "code",
   "execution_count": 300,
   "metadata": {},
   "outputs": [
    {
     "data": {
      "text/plain": [
       "'im',          566\n",
       "'would',       377\n",
       "'social',      346\n",
       "'like',        306\n",
       "'research',    285\n",
       "'people',      247\n",
       "'know',        211\n",
       "'work',        208\n",
       "'one',         174\n",
       "'ive',         172\n",
       "'get',         169\n",
       "'year',        164\n",
       "'also',        154\n",
       "'help',        152\n",
       "'question',    151\n",
       "'could',       149\n",
       "'really',      147\n",
       "'want',        145\n",
       "'time',        140\n",
       "'anyone',      140\n",
       "dtype: int64"
      ]
     },
     "execution_count": 300,
     "metadata": {},
     "output_type": "execute_result"
    }
   ],
   "source": [
    "combi[combi['subreddit'] == 'sociology'].selftext.str.split(expand=True).stack().value_counts().head(20)\n"
   ]
  },
  {
   "cell_type": "code",
   "execution_count": 301,
   "metadata": {},
   "outputs": [
    {
     "data": {
      "text/plain": [
       "'like',         455\n",
       "'people',       417\n",
       "'im',           416\n",
       "'would',        375\n",
       "'know',         283\n",
       "'time',         240\n",
       "'one',          231\n",
       "'it',           222\n",
       "'ampxb',        213\n",
       "'could',        201\n",
       "'thing',        190\n",
       "'feel',         179\n",
       "'someone',      176\n",
       "'something',    176\n",
       "'think',        174\n",
       "'get',          168\n",
       "'question',     164\n",
       "'also',         162\n",
       "'person',       157\n",
       "'make',         152\n",
       "dtype: int64"
      ]
     },
     "execution_count": 301,
     "metadata": {},
     "output_type": "execute_result"
    }
   ],
   "source": [
    "combi[combi['subreddit'] == 'askpsychology'].selftext.str.split(expand=True).stack().value_counts().head(20)"
   ]
  },
  {
   "cell_type": "code",
   "execution_count": 302,
   "metadata": {},
   "outputs": [],
   "source": [
    "##Roc Curve \n",
    "\n",
    "def plot_roc(y, probs, name_title,threshmarkers=None):\n",
    "    fpr, tpr, thresh = roc_curve(y, probs)\n",
    "\n",
    "    plt.figure(figsize=(8,8))\n",
    "    plt.plot(fpr, tpr, lw=2)\n",
    "   \n",
    "    plt.title(name_title)\n",
    "    plt.xlabel(\"False Positive Rate\\n(1 - Specificity)\")\n",
    "    plt.ylabel(\"True Positive Rate\\n(Sensitivity)\")\n",
    "    plt.xlim([-0.025, 1.025])\n",
    "    plt.ylim([-0.025, 1.025])\n",
    "    plt.xticks(np.linspace(0, 1, 21), rotation=45)\n",
    "    plt.yticks(np.linspace(0, 1, 21))\n",
    "    plt.show()"
   ]
  },
  {
   "cell_type": "code",
   "execution_count": 309,
   "metadata": {},
   "outputs": [
    {
     "data": {
      "image/png": "[encoded data removed]",
      "text/plain": [
       "<Figure size 576x576 with 1 Axes>"
      ]
     },
     "metadata": {
      "needs_background": "light"
     },
     "output_type": "display_data"
    },
    {
     "data": {
      "image/png": "[encoded data removed]",
      "text/plain": [
       "<Figure size 576x576 with 1 Axes>"
      ]
     },
     "metadata": {
      "needs_background": "light"
     },
     "output_type": "display_data"
    }
   ],
   "source": [
    "predicted_proba = gs_1.predict_proba(X_test)\n",
    "plot_roc(y_test.apply(lambda x: x == \"askpsychology\"), predicted_proba[:, list(gs_3.classes_).index(\"askpsychology\")],'Roc Cuve for askpsychology subreddit')\n",
    "plot_roc(y_test.apply(lambda x: x == \"sociology\"), predicted_proba[:, list(gs_3.classes_).index(\"sociology\")], 'Roc Cuve for Sociology subreddit')\n",
    "\n"
   ]
  },
  {
   "cell_type": "code",
   "execution_count": 316,
   "metadata": {},
   "outputs": [
    {
     "data": {
      "text/plain": [
       "(67,)"
      ]
     },
     "execution_count": 316,
     "metadata": {},
     "output_type": "execute_result"
    }
   ],
   "source": [
    "predicted = gs_1.predict(X_test)\n",
    "\n",
    "# Incorrectly classified\n",
    "incorrect_preds = X_test[(predicted != y_test)]\n",
    "\n",
    "\n",
    "incorrect_preds.shape"
   ]
  },
  {
   "cell_type": "markdown",
   "metadata": {},
   "source": [
    "## Conclusion: \n",
    "\n",
    "After the text was cleaned and tokenized, we used the pipelines and GridCV to find out which vectorizer and parameters gave the most accurate subreddit predictions. We observed overfitting for the countvectorizer and logistic regression model, while the other models worked equally well. Therefore, the models were evaluated based on their precision scores. The evaluations concluded that the tfidf vectorizer together with the Multinomial Naive Bayes gave the highest precision values.Out of the 374 data points in the test dataset only 67 of the subreddit were classified wrongly. Therefore, we suggest that the tfidf and the Multinomial NB is a good predictor for classifying the subreddit categories. We have to take note that the current model only has two different subreddits to classify from. Therefore, this same model might not be useful in predicting when there are more than 2 subreddit categories.\n"
   ]
  },
  {
   "cell_type": "markdown",
   "metadata": {},
   "source": []
  }
 ],
 "metadata": {
  "kernelspec": {
   "display_name": "Python 3",
   "language": "python",
   "name": "python3"
  },
  "language_info": {
   "codemirror_mode": {
    "name": "ipython",
    "version": 3
   },
   "file_extension": ".py",
   "mimetype": "text/x-python",
   "name": "python",
   "nbconvert_exporter": "python",
   "pygments_lexer": "ipython3",
   "version": "3.7.3"
  }
 },
 "nbformat": 4,
 "nbformat_minor": 2
}
